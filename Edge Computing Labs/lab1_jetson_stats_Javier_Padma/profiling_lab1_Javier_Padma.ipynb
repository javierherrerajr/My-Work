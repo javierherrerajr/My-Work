{
 "cells": [
  {
   "cell_type": "markdown",
   "metadata": {},
   "source": [
    "## Profiling (7 pts + 2 bonus pts)\n",
    "\n",
    "Before we go any further and start looking at how vectorization makes your program faster, we need to talk about profiling. Profiling is the act of measuring performance of a program, either by timing it or by looking into memory access, depending on what is you are trying to measure.\n",
    "\n",
    "(Follow the instructions here: https://jakevdp.github.io/PythonDataScienceHandbook/01.07-timing-and-profiling.html to setup the profilers)\n",
    "\n",
    "# **Remember to save your file after generating all the required results. Then we can directly see your results.**\n",
    "\n",
    "### Time\n",
    "\n",
    "This is the most common profiler. In a python code you just import the time module and measure starting and ending time. For IPython we can call the %time %%time and %%timeit magic"
   ]
  },
  {
   "cell_type": "code",
   "execution_count": 1,
   "metadata": {},
   "outputs": [],
   "source": [
    "%time?"
   ]
  },
  {
   "cell_type": "markdown",
   "metadata": {},
   "source": [
    "# Question 1 (0.5 pts)\n",
    "Run the following code and explain its output"
   ]
  },
  {
   "cell_type": "code",
   "execution_count": 2,
   "metadata": {},
   "outputs": [
    {
     "name": "stdout",
     "output_type": "stream",
     "text": [
      "CPU times: user 2.18 s, sys: 0 ns, total: 2.18 s\n",
      "Wall time: 2.26 s\n"
     ]
    }
   ],
   "source": [
    "%%time\n",
    "total = 0\n",
    "for i in range(1000):\n",
    "    for j in range(1000):\n",
    "        total += i * (-1) ** j"
   ]
  },
  {
   "cell_type": "markdown",
   "metadata": {},
   "source": [
    "The output I see after running the code was the CPU times which was user: 2.18s, sys: 0ns, and total: 2.18s. It also displayed the wall time which was 2.26s"
   ]
  },
  {
   "cell_type": "markdown",
   "metadata": {},
   "source": [
    "# Question 2 (0.5)\n",
    "There are two blocks of code below performing the same function on a given input, explain why the second sort is much faster"
   ]
  },
  {
   "cell_type": "code",
   "execution_count": 3,
   "metadata": {},
   "outputs": [
    {
     "name": "stdout",
     "output_type": "stream",
     "text": [
      "CPU times: user 184 ms, sys: 0 ns, total: 184 ms\n",
      "Wall time: 213 ms\n"
     ]
    }
   ],
   "source": [
    "import random\n",
    "L = [random.random() for i in range(100000)]\n",
    "%time L.sort()"
   ]
  },
  {
   "cell_type": "code",
   "execution_count": 4,
   "metadata": {},
   "outputs": [
    {
     "name": "stdout",
     "output_type": "stream",
     "text": [
      "CPU times: user 20 ms, sys: 0 ns, total: 20 ms\n",
      "Wall time: 28.2 ms\n"
     ]
    }
   ],
   "source": [
    "%time L.sort()"
   ]
  },
  {
   "cell_type": "markdown",
   "metadata": {},
   "source": [
    "After comparing the two, I noticed that the user CPU time was cut down from 184ms to 20ms. This is due to the first block of code sorts for an assortion of 100000 random unsorted list vs the 2nd block only sorting for a sorted list"
   ]
  },
  {
   "cell_type": "markdown",
   "metadata": {},
   "source": [
    "# Question 3 (1 pts)\n",
    "Use Python memory_profiler to profile your own code and explain the results"
   ]
  },
  {
   "cell_type": "code",
   "execution_count": 10,
   "metadata": {},
   "outputs": [
    {
     "name": "stdout",
     "output_type": "stream",
     "text": [
      "Requirement already satisfied: memory_profiler in /usr/local/lib/python3.6/dist-packages (0.61.0)\n",
      "Requirement already satisfied: psutil in /usr/local/lib/python3.6/dist-packages (from memory_profiler) (7.0.0)\n",
      "\u001b[33mWARNING: Running pip as the 'root' user can result in broken permissions and conflicting behaviour with the system package manager. It is recommended to use a virtual environment instead: https://pip.pypa.io/warnings/venv\u001b[0m\n"
     ]
    }
   ],
   "source": [
    "!pip3 install memory_profiler"
   ]
  },
  {
   "cell_type": "code",
   "execution_count": 11,
   "metadata": {},
   "outputs": [
    {
     "name": "stdout",
     "output_type": "stream",
     "text": [
      "The memory_profiler extension is already loaded. To reload it, use:\n",
      "  %reload_ext memory_profiler\n"
     ]
    }
   ],
   "source": [
    "%load_ext memory_profiler"
   ]
  },
  {
   "cell_type": "code",
   "execution_count": 12,
   "metadata": {
    "scrolled": true
   },
   "outputs": [],
   "source": [
    "def sum_of_lists(N):\n",
    "    total = 0\n",
    "    for i in range(5):\n",
    "        L = [j ^ (j >> i) for j in range(N)]\n",
    "        total += sum(L)\n",
    "    return total"
   ]
  },
  {
   "cell_type": "code",
   "execution_count": 14,
   "metadata": {},
   "outputs": [
    {
     "name": "stdout",
     "output_type": "stream",
     "text": [
      "peak memory: 128.84 MiB, increment: 74.96 MiB\n"
     ]
    }
   ],
   "source": [
    "%memit sum_of_lists(999999)"
   ]
  },
  {
   "cell_type": "markdown",
   "metadata": {},
   "source": [
    "I used a simple sum_of_lists function that gives the sum of numbers if it falls within N range. I noticed after running the memit profiler, the peak memory was 128.84 MiB and incremented at 74.96 MiB. This shows how much memory was used when running a basic summation function. "
   ]
  },
  {
   "cell_type": "markdown",
   "metadata": {},
   "source": [
    "# Question 4 (7 pts)\n",
    "Run the following codes to measure execution time, memory usage and answer the following questions.\n",
    "Note: Make sure to install any missing Python packages"
   ]
  },
  {
   "cell_type": "markdown",
   "metadata": {},
   "source": [
    "1. This code snippet defines and runs a simple Python function hello() that prints 'hello world!'. It also employs the memory_profiler module to profile the memory usage of the hello() function with a specified precision."
   ]
  },
  {
   "cell_type": "code",
   "execution_count": 25,
   "metadata": {},
   "outputs": [
    {
     "name": "stdout",
     "output_type": "stream",
     "text": [
      "Overwriting helloworld.py\n",
      "CPU times: user 4 ms, sys: 0 ns, total: 4 ms\n",
      "Wall time: 12 ms\n"
     ]
    }
   ],
   "source": [
    "%%time\n",
    "%%file helloworld.py\n",
    "from memory_profiler import profile\n",
    "\n",
    "@profile(precision=4)\n",
    "def hello():\n",
    "\tprint(\"hello world!\") \n",
    "\n",
    "hello()"
   ]
  },
  {
   "cell_type": "code",
   "execution_count": 26,
   "metadata": {},
   "outputs": [
    {
     "name": "stdout",
     "output_type": "stream",
     "text": [
      "hello world!\n",
      "Filename: /home/group7/Downloads/helloworld.py\n",
      "\n",
      "Line #    Mem usage    Increment  Occurrences   Line Contents\n",
      "=============================================================\n",
      "     3  64.7734 MiB  64.7734 MiB           1   @profile(precision=4)\n",
      "     4                                         def hello():\n",
      "     5  64.7734 MiB   0.0000 MiB           1   \tprint(\"hello world!\") \n",
      "\n",
      "\n"
     ]
    }
   ],
   "source": [
    "%run -i helloworld.py"
   ]
  },
  {
   "cell_type": "markdown",
   "metadata": {},
   "source": [
    "2. This code snippet demonstrates memory profiling for a Python function my_func() that creates, manipulates, and deletes large lists, showcasing how memory usage changes with these operations"
   ]
  },
  {
   "cell_type": "code",
   "execution_count": 27,
   "metadata": {},
   "outputs": [
    {
     "name": "stdout",
     "output_type": "stream",
     "text": [
      "Overwriting expressions.py\n",
      "CPU times: user 0 ns, sys: 4 ms, total: 4 ms\n",
      "Wall time: 12.1 ms\n"
     ]
    }
   ],
   "source": [
    "%%time\n",
    "%%file expressions.py\n",
    "from memory_profiler import profile\n",
    "@profile(precision=4)\n",
    "def my_func():\n",
    "    a = [1] * (10 ** 6)\n",
    "    b = [2] * (2 * 10 ** 7)\n",
    "    del b\n",
    "    return a\n",
    "my_func()"
   ]
  },
  {
   "cell_type": "code",
   "execution_count": 28,
   "metadata": {},
   "outputs": [
    {
     "name": "stdout",
     "output_type": "stream",
     "text": [
      "Filename: /home/group7/Downloads/expressions.py\n",
      "\n",
      "Line #    Mem usage    Increment  Occurrences   Line Contents\n",
      "=============================================================\n",
      "     2  64.7734 MiB  64.7734 MiB           1   @profile(precision=4)\n",
      "     3                                         def my_func():\n",
      "     4  66.1719 MiB   1.3984 MiB           1       a = [1] * (10 ** 6)\n",
      "     5 214.8711 MiB 148.6992 MiB           1       b = [2] * (2 * 10 ** 7)\n",
      "     6  62.2344 MiB -152.6367 MiB           1       del b\n",
      "     7  62.2344 MiB   0.0000 MiB           1       return a\n",
      "\n",
      "\n"
     ]
    }
   ],
   "source": [
    "%run -i expressions.py"
   ]
  },
  {
   "cell_type": "markdown",
   "metadata": {},
   "source": [
    "3. This code snippet profiles memory usage of the function math_funcs(), which demonstrates the application of logarithmic, cosine, and reciprocal functions from the NumPy library on an array of numbers, and prints the results for each operation."
   ]
  },
  {
   "cell_type": "code",
   "execution_count": 29,
   "metadata": {},
   "outputs": [
    {
     "name": "stdout",
     "output_type": "stream",
     "text": [
      "Overwriting math_funcs.py\n",
      "CPU times: user 4 ms, sys: 0 ns, total: 4 ms\n",
      "Wall time: 11.7 ms\n"
     ]
    }
   ],
   "source": [
    "%%time\n",
    "%%file math_funcs.py\n",
    "from memory_profiler import profile\n",
    "import math\n",
    "import numpy as np\n",
    "\n",
    "@profile(precision=4)\n",
    "def math_funcs():\n",
    "\tinp_arr = [10, 20, 30, 40, 50] \n",
    "\tprint (\"Array input elements:\\n\", inp_arr) \n",
    "\n",
    "\tres_arr = np.log(inp_arr) \n",
    "\tprint (\"Applying log function:\\n\", res_arr)\n",
    "\n",
    "\tres_arr2 = np.cos(inp_arr) \n",
    "\tprint (\"Applying cos function:\\n\", res_arr2)\n",
    "\n",
    "\tres_arr3 = np.reciprocal(inp_arr) \n",
    "\tprint (\"Applying reciprocal function:\\n\", res_arr3)\n",
    "\n",
    "\n",
    "math_funcs()"
   ]
  },
  {
   "cell_type": "code",
   "execution_count": 30,
   "metadata": {},
   "outputs": [
    {
     "name": "stdout",
     "output_type": "stream",
     "text": [
      "Array input elements:\n",
      " [10, 20, 30, 40, 50]\n",
      "Applying log function:\n",
      " [ 2.30258509  2.99573227  3.40119738  3.68887945  3.91202301]\n",
      "Applying cos function:\n",
      " [-0.83907153  0.40808206  0.15425145 -0.66693806  0.96496603]\n",
      "Applying reciprocal function:\n",
      " [0 0 0 0 0]\n",
      "Filename: /home/group7/Downloads/math_funcs.py\n",
      "\n",
      "Line #    Mem usage    Increment  Occurrences   Line Contents\n",
      "=============================================================\n",
      "     5  62.2969 MiB  62.2969 MiB           1   @profile(precision=4)\n",
      "     6                                         def math_funcs():\n",
      "     7  62.2969 MiB   0.0000 MiB           1   \tinp_arr = [10, 20, 30, 40, 50] \n",
      "     8  62.2969 MiB   0.0000 MiB           1   \tprint (\"Array input elements:\\n\", inp_arr) \n",
      "     9                                         \n",
      "    10  62.2969 MiB   0.0000 MiB           1   \tres_arr = np.log(inp_arr) \n",
      "    11  63.4453 MiB   1.1484 MiB           1   \tprint (\"Applying log function:\\n\", res_arr)\n",
      "    12                                         \n",
      "    13  63.4453 MiB   0.0000 MiB           1   \tres_arr2 = np.cos(inp_arr) \n",
      "    14  63.4453 MiB   0.0000 MiB           1   \tprint (\"Applying cos function:\\n\", res_arr2)\n",
      "    15                                         \n",
      "    16  63.4453 MiB   0.0000 MiB           1   \tres_arr3 = np.reciprocal(inp_arr) \n",
      "    17  63.4453 MiB   0.0000 MiB           1   \tprint (\"Applying reciprocal function:\\n\", res_arr3)\n",
      "\n",
      "\n"
     ]
    }
   ],
   "source": [
    "%run -i math_funcs.py"
   ]
  },
  {
   "cell_type": "markdown",
   "metadata": {},
   "source": [
    "4. This code snippet, using memory profiling, demonstrates a nested loop in Python where it iterates through combinations of adjectives and fruit names, printing each pair."
   ]
  },
  {
   "cell_type": "code",
   "execution_count": 31,
   "metadata": {},
   "outputs": [
    {
     "name": "stdout",
     "output_type": "stream",
     "text": [
      "Overwriting loops.py\n",
      "CPU times: user 4 ms, sys: 0 ns, total: 4 ms\n",
      "Wall time: 9.29 ms\n"
     ]
    }
   ],
   "source": [
    "%%time\n",
    "%%file loops.py\n",
    "from memory_profiler import profile\n",
    "import numpy as np\n",
    "import ctypes\n",
    "import math\n",
    "import time\n",
    "\n",
    "@profile(precision=4)\n",
    "def my_loops():\n",
    "\tadj = [\"red\", \"big\", \"tasty\"]\n",
    "\tfruits = [\"apple\", \"banana\", \"cherry\"]\n",
    "\n",
    "\tfor x in adj:\n",
    " \t\t for y in fruits:\n",
    "   \t\t\t print(x, y)\n",
    "\n",
    "\n",
    "my_loops()"
   ]
  },
  {
   "cell_type": "code",
   "execution_count": 32,
   "metadata": {},
   "outputs": [
    {
     "name": "stdout",
     "output_type": "stream",
     "text": [
      "red apple\n",
      "red banana\n",
      "red cherry\n",
      "big apple\n",
      "big banana\n",
      "big cherry\n",
      "tasty apple\n",
      "tasty banana\n",
      "tasty cherry\n",
      "Filename: /home/group7/Downloads/loops.py\n",
      "\n",
      "Line #    Mem usage    Increment  Occurrences   Line Contents\n",
      "=============================================================\n",
      "     7  63.4453 MiB  63.4453 MiB           1   @profile(precision=4)\n",
      "     8                                         def my_loops():\n",
      "     9  63.4453 MiB   0.0000 MiB           1   \tadj = [\"red\", \"big\", \"tasty\"]\n",
      "    10  63.4453 MiB   0.0000 MiB           1   \tfruits = [\"apple\", \"banana\", \"cherry\"]\n",
      "    11                                         \n",
      "    12  63.4453 MiB   0.0000 MiB           4   \tfor x in adj:\n",
      "    13  63.4453 MiB   0.0000 MiB          12    \t\t for y in fruits:\n",
      "    14  63.4453 MiB   0.0000 MiB           9      \t\t\t print(x, y)\n",
      "\n",
      "\n"
     ]
    }
   ],
   "source": [
    "%run -i loops.py"
   ]
  },
  {
   "cell_type": "markdown",
   "metadata": {},
   "source": [
    "## Question 4.1 (1.5 pts)\n",
    "Modify each of the above function to capture their execution time (Both CPU and Wall). You can modify the code directly, if required."
   ]
  },
  {
   "cell_type": "code",
   "execution_count": null,
   "metadata": {},
   "outputs": [],
   "source": [
    "#The code blocks for the functions were overwritten above to include time also that demonstrats CPU and Wall execution time"
   ]
  },
  {
   "cell_type": "markdown",
   "metadata": {},
   "source": [
    "## Question 4.2 (1.5 pts)\n",
    "\n",
    "What patterns did you notice between each of the above function with respect to latency, memory usage and code ?\n"
   ]
  },
  {
   "cell_type": "markdown",
   "metadata": {},
   "source": [
    "After running each of the functions, I've noticed that each function had the same CPU times but had very small variences between Wall times, Memory usage, and latency. Despite some code having more or less lines than the other, always used similar memory. I did notice that function 2 has line 5 where it used 4x the memory compared to the rest of the lines. This is probably because it had multiplication with multiple numbers and powers. Lastly, even with function 4 line 13 repeating 12 times, it used way less memory compared to function 2 line 5. "
   ]
  },
  {
   "cell_type": "markdown",
   "metadata": {},
   "source": [
    "## Question 4.3 (2 pts)\n",
    "Using %time magic command, we can trace overall code execution time. Sometimes, you might have to get deeper insights to identify performance bottlenecks. Write your own code and profile execution time line by line."
   ]
  },
  {
   "cell_type": "code",
   "execution_count": 35,
   "metadata": {},
   "outputs": [
    {
     "name": "stdout",
     "output_type": "stream",
     "text": [
      "Collecting line_profiler\n",
      "  Downloading line_profiler-4.1.3.tar.gz (196 kB)\n",
      "     |████████████████████████████████| 196 kB 1.5 MB/s            \n",
      "\u001b[?25h  Installing build dependencies ... \u001b[?25ldone\n",
      "\u001b[?25h  Getting requirements to build wheel ... \u001b[?25ldone\n",
      "\u001b[?25h  Installing backend dependencies ... \u001b[?25ldone\n",
      "\u001b[?25h  Preparing metadata (pyproject.toml) ... \u001b[?25ldone\n",
      "\u001b[?25hBuilding wheels for collected packages: line-profiler\n",
      "  Building wheel for line-profiler (pyproject.toml) ... \u001b[?25ldone\n",
      "\u001b[?25h  Created wheel for line-profiler: filename=line_profiler-4.1.3-cp36-cp36m-linux_aarch64.whl size=477330 sha256=b4dae9880c83ac25f5983e0a6c6440aa3a0d9875f38acfd8f57f8bda813de26b\n",
      "  Stored in directory: /root/.cache/pip/wheels/92/12/67/36ba1d1d8a3deb090adbf74b56e1dbd45c7d5f30cd70e112f5\n",
      "Successfully built line-profiler\n",
      "Installing collected packages: line-profiler\n",
      "Successfully installed line-profiler-4.1.3\n",
      "\u001b[33mWARNING: Running pip as the 'root' user can result in broken permissions and conflicting behaviour with the system package manager. It is recommended to use a virtual environment instead: https://pip.pypa.io/warnings/venv\u001b[0m\n"
     ]
    }
   ],
   "source": [
    "!pip3 install line_profiler"
   ]
  },
  {
   "cell_type": "code",
   "execution_count": 36,
   "metadata": {},
   "outputs": [],
   "source": [
    "%load_ext line_profiler"
   ]
  },
  {
   "cell_type": "code",
   "execution_count": 38,
   "metadata": {},
   "outputs": [],
   "source": [
    "%lprun -f sum_of_lists sum_of_lists(53400)"
   ]
  },
  {
   "cell_type": "markdown",
   "metadata": {},
   "source": [
    "## (Bonus) Question 4.4 (2 pts)\n",
    "Memory usage of a program can also be reported as a function of time. Profile memory of any of the above code as a function of time.\n",
    "Submit your profile results and a plot of the results (Mem used vs Time)."
   ]
  },
  {
   "cell_type": "code",
   "execution_count": 44,
   "metadata": {},
   "outputs": [],
   "source": [
    "from memory_profiler import memory_usage\n",
    "import time\n",
    "\n",
    "mem_usage = memory_usage((sum_of_lists,), interval=0.1)"
   ]
  },
  {
   "cell_type": "code",
   "execution_count": 45,
   "metadata": {},
   "outputs": [
    {
     "data": {
      "image/png": "[encoded data removed]",
      "text/plain": [
       "<matplotlib.figure.Figure at 0x7f6d0cfe48>"
      ]
     },
     "metadata": {
      "needs_background": "light"
     },
     "output_type": "display_data"
    }
   ],
   "source": [
    "import matplotlib.pyplot as plt\n",
    "\n",
    "plt.plot(mem_usage)\n",
    "plt.xlabel('Time for every 0.1s')\n",
    "plt.ylabel('Memory usage (MB)')\n",
    "plt.title('Memory Usage Over Time')\n",
    "plt.show()"
   ]
  },
  {
   "attachments": {},
   "cell_type": "markdown",
   "metadata": {},
   "source": [
    "The plot is shown when the code blocks are ran"
   ]
  }
 ],
 "metadata": {
  "kernelspec": {
   "display_name": "Python 3",
   "language": "python",
   "name": "python3"
  },
  "language_info": {
   "codemirror_mode": {
    "name": "ipython",
    "version": 3
   },
   "file_extension": ".py",
   "mimetype": "text/x-python",
   "name": "python",
   "nbconvert_exporter": "python",
   "pygments_lexer": "ipython3",
   "version": "3.6.9"
  },
  "vscode": {
   "interpreter": {
    "hash": "b0fa6594d8f4cbf19f97940f81e996739fb7646882a419484c72d19e05852a7e"
   }
  }
 },
 "nbformat": 4,
 "nbformat_minor": 2
}
